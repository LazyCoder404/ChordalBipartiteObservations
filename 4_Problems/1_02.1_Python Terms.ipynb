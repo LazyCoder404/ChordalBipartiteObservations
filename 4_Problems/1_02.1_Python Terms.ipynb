{
  "cells": [
    {
      "cell_type": "markdown",
      "id": "95f6ce0f",
      "metadata": {
        "id": "95f6ce0f"
      },
      "source": [
        "<a target=\"_blank\" href=\"https://colab.research.google.com/github/lukebarousse/Python_Data_Analytics_Course/blob/main/4_Problems/1_02.1_Python Terms.ipynb\">\n",
        "  <img src=\"https://colab.research.google.com/assets/colab-badge.svg\" alt=\"Open In Colab\"/>\n",
        "</a>"
      ]
    },
    {
      "cell_type": "markdown",
      "id": "beb9ad38",
      "metadata": {
        "id": "beb9ad38"
      },
      "source": [
        "## 🟩 Example of Object (1.2.1.1)"
      ]
    },
    {
      "cell_type": "code",
      "execution_count": 1,
      "id": "c12eb275",
      "metadata": {
        "id": "c12eb275",
        "outputId": "dd230d1c-177c-4f4f-95c2-920b56d40d15",
        "colab": {
          "base_uri": "https://localhost:8080/"
        }
      },
      "outputs": [
        {
          "output_type": "execute_result",
          "data": {
            "text/plain": [
              "150000"
            ]
          },
          "metadata": {},
          "execution_count": 1
        }
      ],
      "source": [
        "salary = 150000\n",
        "salary"
      ]
    },
    {
      "cell_type": "markdown",
      "id": "4f92e924",
      "metadata": {
        "id": "4f92e924"
      },
      "source": [
        "---"
      ]
    },
    {
      "cell_type": "markdown",
      "id": "0d8bd28e",
      "metadata": {
        "id": "0d8bd28e"
      },
      "source": [
        "## 🟩 Define Variable (1.2.1.2)"
      ]
    },
    {
      "cell_type": "code",
      "execution_count": 2,
      "id": "b86bf00f",
      "metadata": {
        "id": "b86bf00f"
      },
      "outputs": [],
      "source": [
        "course_name = \"python for data science\"\n",
        "course_length = 11.00"
      ]
    },
    {
      "cell_type": "markdown",
      "id": "cb421822",
      "metadata": {
        "id": "cb421822"
      },
      "source": [
        "---"
      ]
    },
    {
      "cell_type": "markdown",
      "id": "6e3537ff",
      "metadata": {
        "id": "6e3537ff"
      },
      "source": [
        "## 🟨 Define Function (1.2.1.3)"
      ]
    },
    {
      "cell_type": "code",
      "execution_count": 3,
      "id": "cde6212a",
      "metadata": {
        "id": "cde6212a"
      },
      "outputs": [],
      "source": [
        "def print_details(name, length):\n",
        "  print(f\"course name: {name}\\nCourseLength:{length}\")"
      ]
    },
    {
      "cell_type": "code",
      "source": [
        "print_details(course_name, course_length)"
      ],
      "metadata": {
        "id": "71IG6MAdbW1M",
        "outputId": "728fa19b-48e0-43ee-8b8a-ad3ab9a7ef34",
        "colab": {
          "base_uri": "https://localhost:8080/"
        }
      },
      "id": "71IG6MAdbW1M",
      "execution_count": 4,
      "outputs": [
        {
          "output_type": "stream",
          "name": "stdout",
          "text": [
            "course name: python for data science\n",
            "CourseLength:11.0\n"
          ]
        }
      ]
    },
    {
      "cell_type": "markdown",
      "id": "7d7fbaf5",
      "metadata": {
        "id": "7d7fbaf5"
      },
      "source": [
        "---"
      ]
    },
    {
      "cell_type": "markdown",
      "id": "3b23bdf3",
      "metadata": {
        "id": "3b23bdf3"
      },
      "source": [
        "## 🟨 Define Class (1.2.1.4)"
      ]
    },
    {
      "cell_type": "code",
      "execution_count": 12,
      "id": "8258d78c",
      "metadata": {
        "id": "8258d78c"
      },
      "outputs": [],
      "source": [
        "class Course:\n",
        "  def __init__(self, name, length):\n",
        "    self.title = name\n",
        "    self.length = length\n",
        "  def print_details(self):\n",
        "    return print(f\"course name: {self.title}\\nCourseLength:{self.length}\")"
      ]
    },
    {
      "cell_type": "code",
      "source": [
        "course1 = Course(\"data\", 5)"
      ],
      "metadata": {
        "id": "9XiGYepmb9Dk"
      },
      "id": "9XiGYepmb9Dk",
      "execution_count": 14,
      "outputs": []
    },
    {
      "cell_type": "code",
      "source": [
        "course1.title"
      ],
      "metadata": {
        "id": "4l2ES3TIcHq9",
        "outputId": "1866d87a-3d95-4c81-eace-0b5957b8dd63",
        "colab": {
          "base_uri": "https://localhost:8080/",
          "height": 37
        }
      },
      "id": "4l2ES3TIcHq9",
      "execution_count": 10,
      "outputs": [
        {
          "output_type": "execute_result",
          "data": {
            "text/plain": [
              "'data'"
            ],
            "application/vnd.google.colaboratory.intrinsic+json": {
              "type": "string"
            }
          },
          "metadata": {},
          "execution_count": 10
        }
      ]
    },
    {
      "cell_type": "markdown",
      "id": "a7b1c8db",
      "metadata": {
        "id": "a7b1c8db"
      },
      "source": [
        "---"
      ]
    },
    {
      "cell_type": "markdown",
      "id": "4e4c0d49",
      "metadata": {
        "id": "4e4c0d49"
      },
      "source": [
        "## 🟥 Call Method (1.2.1.5)"
      ]
    },
    {
      "cell_type": "code",
      "execution_count": 15,
      "id": "5f123b9b",
      "metadata": {
        "id": "5f123b9b",
        "outputId": "67dc66d4-0795-45d1-cbf3-3246d63381cc",
        "colab": {
          "base_uri": "https://localhost:8080/"
        }
      },
      "outputs": [
        {
          "output_type": "stream",
          "name": "stdout",
          "text": [
            "course name: data\n",
            "CourseLength:5\n"
          ]
        }
      ],
      "source": [
        "course1.print_details()"
      ]
    },
    {
      "cell_type": "markdown",
      "id": "84d3740e",
      "metadata": {
        "id": "84d3740e"
      },
      "source": [
        "---"
      ]
    },
    {
      "cell_type": "markdown",
      "id": "7b8b125d",
      "metadata": {
        "id": "7b8b125d"
      },
      "source": [
        "## 🟥 Example of Attribute (1.2.1.6)"
      ]
    },
    {
      "cell_type": "code",
      "execution_count": null,
      "id": "d0c76efd",
      "metadata": {
        "id": "d0c76efd"
      },
      "outputs": [],
      "source": []
    },
    {
      "cell_type": "markdown",
      "id": "b54deeb8",
      "metadata": {
        "id": "b54deeb8"
      },
      "source": [
        "---"
      ]
    }
  ],
  "metadata": {
    "colab": {
      "provenance": []
    },
    "language_info": {
      "name": "python"
    },
    "kernelspec": {
      "name": "python3",
      "display_name": "Python 3"
    }
  },
  "nbformat": 4,
  "nbformat_minor": 5
}